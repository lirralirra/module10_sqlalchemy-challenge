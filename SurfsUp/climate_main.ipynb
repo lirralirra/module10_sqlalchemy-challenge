{
 "cells": [
  {
   "cell_type": "code",
   "metadata": {
    "ExecuteTime": {
     "end_time": "2024-10-31T07:26:07.814978Z",
     "start_time": "2024-10-31T07:26:07.809644Z"
    }
   },
   "source": [
    "%matplotlib inline\n",
    "from matplotlib import style\n",
    "style.use('fivethirtyeight')\n",
    "import matplotlib.pyplot as plt\n"
   ],
   "outputs": [],
   "execution_count": 20
  },
  {
   "cell_type": "code",
   "metadata": {
    "ExecuteTime": {
     "end_time": "2024-10-31T07:26:07.824915Z",
     "start_time": "2024-10-31T07:26:07.822487Z"
    }
   },
   "source": [
    "import numpy as np\n",
    "import pandas as pd\n",
    "import datetime as dt\n"
   ],
   "outputs": [],
   "execution_count": 21
  },
  {
   "cell_type": "markdown",
   "metadata": {},
   "source": [
    "# Reflect Tables into SQLAlchemy ORM"
   ]
  },
  {
   "cell_type": "code",
   "metadata": {
    "ExecuteTime": {
     "end_time": "2024-10-31T07:26:07.836495Z",
     "start_time": "2024-10-31T07:26:07.834070Z"
    }
   },
   "source": [
    "# Python SQL toolkit and Object Relational Mapper\n",
    "import sqlalchemy\n",
    "from sqlalchemy.ext.automap import automap_base\n",
    "from sqlalchemy.orm import Session\n",
    "from sqlalchemy import create_engine, func\n"
   ],
   "outputs": [],
   "execution_count": 22
  },
  {
   "cell_type": "code",
   "metadata": {
    "ExecuteTime": {
     "end_time": "2024-10-31T07:26:07.845419Z",
     "start_time": "2024-10-31T07:26:07.843414Z"
    }
   },
   "source": [
    "# Create engine using the `hawaii.sqlite` database file\n",
    "engine = create_engine(\"sqlite:///Resources/hawaii.sqlite\")\n"
   ],
   "outputs": [],
   "execution_count": 23
  },
  {
   "cell_type": "code",
   "metadata": {
    "ExecuteTime": {
     "end_time": "2024-10-31T07:26:07.856894Z",
     "start_time": "2024-10-31T07:26:07.851655Z"
    }
   },
   "source": [
    "# Declare a Base using `automap_base()`\n",
    "Base = automap_base()\n",
    "# Use the Base class to reflect the database tables\n",
    "Base.prepare(autoload_with=engine)"
   ],
   "outputs": [],
   "execution_count": 24
  },
  {
   "cell_type": "code",
   "metadata": {
    "ExecuteTime": {
     "end_time": "2024-10-31T07:26:07.865373Z",
     "start_time": "2024-10-31T07:26:07.863130Z"
    }
   },
   "source": [
    "# Print all of the classes mapped to the Base\n",
    "Base.classes.keys()"
   ],
   "outputs": [
    {
     "data": {
      "text/plain": [
       "['measurement', 'station']"
      ]
     },
     "execution_count": 25,
     "metadata": {},
     "output_type": "execute_result"
    }
   ],
   "execution_count": 25
  },
  {
   "cell_type": "code",
   "metadata": {
    "ExecuteTime": {
     "end_time": "2024-10-31T07:26:07.874095Z",
     "start_time": "2024-10-31T07:26:07.872348Z"
    }
   },
   "source": [
    "# Assign the measurement class to a variable called `Measurement` and\n",
    "Measurement = Base.classes.measurement\n",
    "\n",
    "# assign the station class to a variable called `Station`\n",
    "Station = Base.classes.station"
   ],
   "outputs": [],
   "execution_count": 26
  },
  {
   "cell_type": "code",
   "metadata": {
    "ExecuteTime": {
     "end_time": "2024-10-31T07:26:07.882692Z",
     "start_time": "2024-10-31T07:26:07.880964Z"
    }
   },
   "source": [
    "# Create a session\n",
    "session = Session(engine)"
   ],
   "outputs": [],
   "execution_count": 27
  },
  {
   "cell_type": "markdown",
   "metadata": {},
   "source": [
    "# Exploratory Precipitation Analysis"
   ]
  },
  {
   "cell_type": "code",
   "metadata": {
    "ExecuteTime": {
     "end_time": "2024-10-31T07:26:07.893233Z",
     "start_time": "2024-10-31T07:26:07.888919Z"
    }
   },
   "source": [
    "# Total dates\n",
    "session.query(func.count(Measurement.date)).all()"
   ],
   "outputs": [
    {
     "data": {
      "text/plain": [
       "[(19550,)]"
      ]
     },
     "execution_count": 28,
     "metadata": {},
     "output_type": "execute_result"
    }
   ],
   "execution_count": 28
  },
  {
   "metadata": {
    "ExecuteTime": {
     "end_time": "2024-10-31T07:26:07.903954Z",
     "start_time": "2024-10-31T07:26:07.900123Z"
    }
   },
   "cell_type": "code",
   "source": [
    "# Find the most recent date in the data set.\n",
    "Latest_Date = session.query(Measurement.date).order_by(Measurement.date.desc()).first()\n",
    "Latest_Date"
   ],
   "outputs": [
    {
     "data": {
      "text/plain": [
       "('2017-08-23',)"
      ]
     },
     "execution_count": 29,
     "metadata": {},
     "output_type": "execute_result"
    }
   ],
   "execution_count": 29
  },
  {
   "metadata": {
    "ExecuteTime": {
     "end_time": "2024-10-31T07:26:08.143572Z",
     "start_time": "2024-10-31T07:26:07.910803Z"
    }
   },
   "cell_type": "code",
   "source": [
    "# Query all columns\n",
    "result = session.query(Measurement).all()\n",
    "\n",
    "# Print the first few results to see the structure\n",
    "for row in result[:1]:\n",
    "    print(row.__dict__)\n",
    "\n",
    "# Get column names\n",
    "column_names = Measurement.__table__.columns.keys()\n",
    "print(\"Column names:\", column_names)"
   ],
   "outputs": [
    {
     "name": "stdout",
     "output_type": "stream",
     "text": [
      "{'_sa_instance_state': <sqlalchemy.orm.state.InstanceState object at 0x160c0bdc0>, 'id': 0, 'prcp': 2.0, 'date': '2010-01-01', 'station': 'USC00519397', 'tobs': 18.3}\n",
      "Column names: ['id', 'station', 'date', 'prcp', 'tobs']\n"
     ]
    }
   ],
   "execution_count": 30
  },
  {
   "cell_type": "code",
   "metadata": {
    "ExecuteTime": {
     "end_time": "2024-10-31T07:26:08.161952Z",
     "start_time": "2024-10-31T07:26:08.151298Z"
    }
   },
   "source": [
    "# Design a query to retrieve the last 12 months of precipitation data and plot the results.\n",
    "\n",
    "# Starting from the most recent data point in the database.\n",
    "Latest_Date = session.query(Measurement.date).order_by(Measurement.date.desc()).first()\n",
    "# Calculate the date one year from the last date in data set.\n",
    "start_date = dt.date(2017, 8, 23) - dt.timedelta(days=365)\n",
    "\n",
    "# Perform a query to retrieve the data and precipitation scores\n",
    "results = session.query(Measurement.date, Measurement.prcp).\\\n",
    "    filter(Measurement.date >= start_date).\\\n",
    "    filter(Measurement.date <= dt.date(2017, 8, 23)).\\\n",
    "    all()\n",
    "\n",
    "# Save the query results as a Pandas DataFrame. Explicitly set the column names\n",
    "df = pd.DataFrame(results, columns=['date', 'precipitation'])\n",
    "\n",
    "# Sort the dataframe by date\n",
    "df = df.sort_values('date')\n",
    "df"
   ],
   "outputs": [
    {
     "data": {
      "text/plain": [
       "            date  precipitation\n",
       "0     2016-08-23            0.0\n",
       "1009  2016-08-23            NaN\n",
       "1529  2016-08-23           45.5\n",
       "704   2016-08-23            1.3\n",
       "361   2016-08-23            3.8\n",
       "...          ...            ...\n",
       "1527  2017-08-22            0.0\n",
       "1008  2017-08-23            0.0\n",
       "360   2017-08-23            0.0\n",
       "1528  2017-08-23            2.0\n",
       "2229  2017-08-23           11.4\n",
       "\n",
       "[2230 rows x 2 columns]"
      ],
      "text/html": [
       "<div>\n",
       "<style scoped>\n",
       "    .dataframe tbody tr th:only-of-type {\n",
       "        vertical-align: middle;\n",
       "    }\n",
       "\n",
       "    .dataframe tbody tr th {\n",
       "        vertical-align: top;\n",
       "    }\n",
       "\n",
       "    .dataframe thead th {\n",
       "        text-align: right;\n",
       "    }\n",
       "</style>\n",
       "<table border=\"1\" class=\"dataframe\">\n",
       "  <thead>\n",
       "    <tr style=\"text-align: right;\">\n",
       "      <th></th>\n",
       "      <th>date</th>\n",
       "      <th>precipitation</th>\n",
       "    </tr>\n",
       "  </thead>\n",
       "  <tbody>\n",
       "    <tr>\n",
       "      <th>0</th>\n",
       "      <td>2016-08-23</td>\n",
       "      <td>0.0</td>\n",
       "    </tr>\n",
       "    <tr>\n",
       "      <th>1009</th>\n",
       "      <td>2016-08-23</td>\n",
       "      <td>NaN</td>\n",
       "    </tr>\n",
       "    <tr>\n",
       "      <th>1529</th>\n",
       "      <td>2016-08-23</td>\n",
       "      <td>45.5</td>\n",
       "    </tr>\n",
       "    <tr>\n",
       "      <th>704</th>\n",
       "      <td>2016-08-23</td>\n",
       "      <td>1.3</td>\n",
       "    </tr>\n",
       "    <tr>\n",
       "      <th>361</th>\n",
       "      <td>2016-08-23</td>\n",
       "      <td>3.8</td>\n",
       "    </tr>\n",
       "    <tr>\n",
       "      <th>...</th>\n",
       "      <td>...</td>\n",
       "      <td>...</td>\n",
       "    </tr>\n",
       "    <tr>\n",
       "      <th>1527</th>\n",
       "      <td>2017-08-22</td>\n",
       "      <td>0.0</td>\n",
       "    </tr>\n",
       "    <tr>\n",
       "      <th>1008</th>\n",
       "      <td>2017-08-23</td>\n",
       "      <td>0.0</td>\n",
       "    </tr>\n",
       "    <tr>\n",
       "      <th>360</th>\n",
       "      <td>2017-08-23</td>\n",
       "      <td>0.0</td>\n",
       "    </tr>\n",
       "    <tr>\n",
       "      <th>1528</th>\n",
       "      <td>2017-08-23</td>\n",
       "      <td>2.0</td>\n",
       "    </tr>\n",
       "    <tr>\n",
       "      <th>2229</th>\n",
       "      <td>2017-08-23</td>\n",
       "      <td>11.4</td>\n",
       "    </tr>\n",
       "  </tbody>\n",
       "</table>\n",
       "<p>2230 rows × 2 columns</p>\n",
       "</div>"
      ]
     },
     "execution_count": 31,
     "metadata": {},
     "output_type": "execute_result"
    }
   ],
   "execution_count": 31
  },
  {
   "metadata": {
    "ExecuteTime": {
     "end_time": "2024-10-31T07:26:10.688399Z",
     "start_time": "2024-10-31T07:26:08.184651Z"
    }
   },
   "cell_type": "code",
   "source": [
    "from matplotlib.ticker import MultipleLocator\n",
    "\n",
    "# Use Pandas Plotting with Matplotlib to plot the data\n",
    "plt.figure(figsize=(10,6))\n",
    "\n",
    "# Plot the data\n",
    "df.plot(x='date', y='precipitation', kind='bar', width=20, alpha=0.8)\n",
    "\n",
    "# Customize the plot\n",
    "plt.xlabel('Date')\n",
    "plt.ylabel('Precipitation (mm)')\n",
    "plt.title('Precipitation over the last 12 months')\n",
    "\n",
    "# Rotate and align the tick labels so they look better\n",
    "plt.gcf().autofmt_xdate()\n",
    "\n",
    "# Set y-axis ticks every 25 mm\n",
    "plt.gca().yaxis.set_major_locator(MultipleLocator(25))\n",
    "\n",
    "# Rotate and align the tick labels, setting interval for every 30 days\n",
    "plt.gcf().autofmt_xdate()\n",
    "plt.xticks(ticks=range(0, len(df), 240), rotation=45)\n",
    "plt.tick_params(axis='x', which='major', length=10) \n",
    "\n",
    "plt.tight_layout()\n",
    "plt.show()\n"
   ],
   "outputs": [
    {
     "data": {
      "text/plain": [
       "<Figure size 1000x600 with 0 Axes>"
      ]
     },
     "metadata": {},
     "output_type": "display_data"
    },
    {
     "data": {
      "text/plain": [
       "<Figure size 640x480 with 1 Axes>"
      ],
      "image/png": "[encoded data removed]"
     },
     "metadata": {},
     "output_type": "display_data"
    }
   ],
   "execution_count": 32
  },
  {
   "cell_type": "code",
   "metadata": {
    "ExecuteTime": {
     "end_time": "2024-10-31T07:26:10.710018Z",
     "start_time": "2024-10-31T07:26:10.706576Z"
    }
   },
   "source": [
    "# Use Pandas to calculate the summary statistics for the precipitation data\n",
    "summary_stats = df['precipitation'].describe()\n",
    "summary_stats"
   ],
   "outputs": [
    {
     "data": {
      "text/plain": [
       "count    2021.000000\n",
       "mean        4.505888\n",
       "std        11.713487\n",
       "min         0.000000\n",
       "25%         0.000000\n",
       "50%         0.500000\n",
       "75%         3.300000\n",
       "max       170.200000\n",
       "Name: precipitation, dtype: float64"
      ]
     },
     "execution_count": 33,
     "metadata": {},
     "output_type": "execute_result"
    }
   ],
   "execution_count": 33
  },
  {
   "cell_type": "markdown",
   "metadata": {},
   "source": [
    "# Exploratory Station Analysis"
   ]
  },
  {
   "cell_type": "code",
   "metadata": {
    "ExecuteTime": {
     "end_time": "2024-10-31T07:26:10.737571Z",
     "start_time": "2024-10-31T07:26:10.734137Z"
    }
   },
   "source": [
    "# Design a query to calculate the total number of stations in the dataset\n",
    "total_stations = session.query(func.count(Station.station)).all()\n",
    "total_stations"
   ],
   "outputs": [
    {
     "data": {
      "text/plain": [
       "[(9,)]"
      ]
     },
     "execution_count": 34,
     "metadata": {},
     "output_type": "execute_result"
    }
   ],
   "execution_count": 34
  },
  {
   "cell_type": "code",
   "metadata": {
    "ExecuteTime": {
     "end_time": "2024-10-31T07:26:10.772177Z",
     "start_time": "2024-10-31T07:26:10.765750Z"
    }
   },
   "source": [
    "# Design a query to find the most active stations (i.e. which stations have the most rows?)\n",
    "# List the stations and their counts in descending order.\n",
    "# Design the query\n",
    "station_activity = session.query(Measurement.station, func.count(Measurement.id).label('count')).\\\n",
    "    group_by(Measurement.station).\\\n",
    "    order_by(func.count(Measurement.id).desc()).\\\n",
    "    all()\n",
    "\n",
    "# Print the results\n",
    "print(\"Most active stations:\")\n",
    "for station, count in station_activity:\n",
    "    print(f\"Station: {station}, Count: {count}\")"
   ],
   "outputs": [
    {
     "name": "stdout",
     "output_type": "stream",
     "text": [
      "Most active stations:\n",
      "Station: USC00519281, Count: 2772\n",
      "Station: USC00519397, Count: 2724\n",
      "Station: USC00513117, Count: 2709\n",
      "Station: USC00519523, Count: 2669\n",
      "Station: USC00516128, Count: 2612\n",
      "Station: USC00514830, Count: 2202\n",
      "Station: USC00511918, Count: 1979\n",
      "Station: USC00517948, Count: 1372\n",
      "Station: USC00518838, Count: 511\n"
     ]
    }
   ],
   "execution_count": 35
  },
  {
   "cell_type": "code",
   "metadata": {
    "ExecuteTime": {
     "end_time": "2024-10-31T07:26:10.848867Z",
     "start_time": "2024-10-31T07:26:10.844018Z"
    }
   },
   "source": [
    "# Using the most active station id from the previous query, calculate the lowest, highest, and average temperature.\n",
    "#get the id of the most active station\n",
    "most_active_station_id = station_activity[0][0]\n",
    "\n",
    "# calculate the temperature statistics for the most active station\n",
    "temp_stats = session.query(func.min(Measurement.tobs).label('lowest_temp'),\n",
    "                           func.max(Measurement.tobs).label('highest_temp'),\n",
    "                           func.avg(Measurement.tobs).label('average_temp')).\\\n",
    "    filter(Measurement.station == most_active_station_id).\\\n",
    "    one()\n",
    "\n",
    "# Print the results\n",
    "print(f\"Statistics for the most active station ({most_active_station_id}):\")\n",
    "print(f\"Lowest temperature: {temp_stats.lowest_temp}\")\n",
    "print(f\"Highest temperature: {temp_stats.highest_temp}\")\n",
    "print(f\"Average temperature: {temp_stats.average_temp:.3f}\")\n"
   ],
   "outputs": [
    {
     "name": "stdout",
     "output_type": "stream",
     "text": [
      "Statistics for the most active station (USC00519281):\n",
      "Lowest temperature: 12.2\n",
      "Highest temperature: 29.4\n",
      "Average temperature: 22.036\n"
     ]
    }
   ],
   "execution_count": 36
  },
  {
   "cell_type": "code",
   "metadata": {
    "ExecuteTime": {
     "end_time": "2024-10-31T07:26:10.998781Z",
     "start_time": "2024-10-31T07:26:10.925165Z"
    }
   },
   "source": [
    "# Using the most active station id\n",
    "# Query the last 12 months of temperature observation data for this station and plot the results as a histogram\n",
    "temperature_results = session.query(Measurement.tobs).\\\n",
    "    filter(Measurement.station == most_active_station_id).\\\n",
    "    filter(Measurement.date >= start_date).\\\n",
    "    all()\n",
    "\n",
    "\n",
    "# Unpack the results\n",
    "temps = [temp.tobs for temp in temperature_results]\n",
    "\n",
    "# Create the histogram\n",
    "plt.figure(figsize=(10,6))\n",
    "plt.hist(temps, bins=12, edgecolor='black')\n",
    "plt.title(f\"Temperature Observations for Station {most_active_station_id}\")\n",
    "plt.xlabel(\"Temperature\")\n",
    "plt.ylabel(\"Frequency\")\n",
    "plt.tight_layout()\n",
    "plt.show()"
   ],
   "outputs": [
    {
     "data": {
      "text/plain": [
       "<Figure size 1000x600 with 1 Axes>"
      ],
      "image/png": "[encoded data removed]"
     },
     "metadata": {},
     "output_type": "display_data"
    }
   ],
   "execution_count": 37
  },
  {
   "cell_type": "markdown",
   "metadata": {},
   "source": [
    "# Close Session"
   ]
  },
  {
   "cell_type": "code",
   "metadata": {
    "ExecuteTime": {
     "end_time": "2024-10-31T07:26:11.013987Z",
     "start_time": "2024-10-31T07:26:11.006148Z"
    }
   },
   "source": [
    "# Close Session\n",
    "session.close()\n"
   ],
   "outputs": [],
   "execution_count": 38
  },
  {
   "cell_type": "code",
   "metadata": {
    "ExecuteTime": {
     "end_time": "2024-10-31T07:26:11.041284Z",
     "start_time": "2024-10-31T07:26:11.039735Z"
    }
   },
   "source": [],
   "outputs": [],
   "execution_count": null
  }
 ],
 "metadata": {
  "anaconda-cloud": {},
  "kernel_info": {
   "name": "python3"
  },
  "kernelspec": {
   "display_name": "Python 3 (ipykernel)",
   "language": "python",
   "name": "python3"
  },
  "language_info": {
   "codemirror_mode": {
    "name": "ipython",
    "version": 3
   },
   "file_extension": ".py",
   "mimetype": "text/x-python",
   "name": "python",
   "nbconvert_exporter": "python",
   "pygments_lexer": "ipython3",
   "version": "3.10.9"
  },
  "nteract": {
   "version": "0.12.3"
  },
  "varInspector": {
   "cols": {
    "lenName": 16,
    "lenType": 16,
    "lenVar": 40
   },
   "kernels_config": {
    "python": {
     "delete_cmd_postfix": "",
     "delete_cmd_prefix": "del ",
     "library": "var_list.py",
     "varRefreshCmd": "print(var_dic_list())"
    },
    "r": {
     "delete_cmd_postfix": ") ",
     "delete_cmd_prefix": "rm(",
     "library": "var_list.r",
     "varRefreshCmd": "cat(var_dic_list()) "
    }
   },
   "types_to_exclude": [
    "module",
    "function",
    "builtin_function_or_method",
    "instance",
    "_Feature"
   ],
   "window_display": false
  }
 },
 "nbformat": 4,
 "nbformat_minor": 2
}
