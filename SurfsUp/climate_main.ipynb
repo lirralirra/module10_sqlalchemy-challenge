{
 "cells": [
  {
   "cell_type": "code",
   "metadata": {
    "ExecuteTime": {
     "end_time": "2024-10-24T23:28:50.834584Z",
     "start_time": "2024-10-24T23:28:50.548895Z"
    }
   },
   "source": [
    "%matplotlib inline\n",
    "from matplotlib import style\n",
    "style.use('fivethirtyeight')\n",
    "import matplotlib.pyplot as plt\n"
   ],
   "outputs": [],
   "execution_count": 1
  },
  {
   "cell_type": "code",
   "metadata": {
    "ExecuteTime": {
     "end_time": "2024-10-24T23:28:53.590156Z",
     "start_time": "2024-10-24T23:28:53.361876Z"
    }
   },
   "source": [
    "import numpy as np\n",
    "import pandas as pd\n",
    "import datetime as dt\n"
   ],
   "outputs": [],
   "execution_count": 2
  },
  {
   "cell_type": "markdown",
   "metadata": {},
   "source": [
    "# Reflect Tables into SQLAlchemy ORM"
   ]
  },
  {
   "cell_type": "code",
   "metadata": {
    "ExecuteTime": {
     "end_time": "2024-10-24T23:28:56.865099Z",
     "start_time": "2024-10-24T23:28:55.492490Z"
    }
   },
   "source": [
    "# Python SQL toolkit and Object Relational Mapper\n",
    "import sqlalchemy\n",
    "from sqlalchemy.ext.automap import automap_base\n",
    "from sqlalchemy.orm import Session\n",
    "from sqlalchemy import create_engine, func\n"
   ],
   "outputs": [],
   "execution_count": 3
  },
  {
   "cell_type": "code",
   "metadata": {
    "ExecuteTime": {
     "end_time": "2024-10-24T23:28:59.431411Z",
     "start_time": "2024-10-24T23:28:59.422296Z"
    }
   },
   "source": [
    "# Create engine using the `hawaii.sqlite` database file\n",
    "engine = create_engine(\"sqlite:///Resources/hawaii.sqlite\")\n"
   ],
   "outputs": [],
   "execution_count": 4
  },
  {
   "cell_type": "code",
   "metadata": {
    "ExecuteTime": {
     "end_time": "2024-10-24T23:51:32.998404Z",
     "start_time": "2024-10-24T23:51:32.985258Z"
    }
   },
   "source": [
    "# Declare a Base using `automap_base()`\n",
    "Base = automap_base()\n",
    "# Use the Base class to reflect the database tables\n",
    "Base.prepare(autoload_with=engine)"
   ],
   "outputs": [],
   "execution_count": 5
  },
  {
   "cell_type": "code",
   "metadata": {
    "ExecuteTime": {
     "end_time": "2024-10-24T23:51:45.943149Z",
     "start_time": "2024-10-24T23:51:45.938142Z"
    }
   },
   "source": [
    "# Print all of the classes mapped to the Base\n",
    "Base.classes.keys()"
   ],
   "outputs": [
    {
     "data": {
      "text/plain": [
       "['measurement', 'station']"
      ]
     },
     "execution_count": 6,
     "metadata": {},
     "output_type": "execute_result"
    }
   ],
   "execution_count": 6
  },
  {
   "cell_type": "code",
   "metadata": {
    "ExecuteTime": {
     "end_time": "2024-10-24T23:56:18.722153Z",
     "start_time": "2024-10-24T23:56:18.719529Z"
    }
   },
   "source": [
    "# Assign the measurement class to a variable called `Measurement` and\n",
    "Measurement = Base.classes.measurement\n",
    "\n",
    "# assign the station class to a variable called `Station`\n",
    "Station = Base.classes.station"
   ],
   "outputs": [],
   "execution_count": 7
  },
  {
   "cell_type": "code",
   "metadata": {
    "ExecuteTime": {
     "end_time": "2024-10-24T23:56:36.951985Z",
     "start_time": "2024-10-24T23:56:36.948968Z"
    }
   },
   "source": [
    "# Create a session\n",
    "session = Session(engine)"
   ],
   "outputs": [],
   "execution_count": 8
  },
  {
   "cell_type": "markdown",
   "metadata": {},
   "source": [
    "# Exploratory Precipitation Analysis"
   ]
  },
  {
   "cell_type": "code",
   "metadata": {
    "ExecuteTime": {
     "end_time": "2024-10-25T00:02:56.903733Z",
     "start_time": "2024-10-25T00:02:56.899289Z"
    }
   },
   "source": [
    "# Total dates\n",
    "session.query(func.count(Measurement.date)).all()"
   ],
   "outputs": [
    {
     "data": {
      "text/plain": [
       "[(19550,)]"
      ]
     },
     "execution_count": 12,
     "metadata": {},
     "output_type": "execute_result"
    }
   ],
   "execution_count": 12
  },
  {
   "metadata": {
    "ExecuteTime": {
     "end_time": "2024-10-25T00:07:19.808800Z",
     "start_time": "2024-10-25T00:07:19.802012Z"
    }
   },
   "cell_type": "code",
   "source": [
    "# Find the most recent date in the data set.\n",
    "Latest_Date = session.query(Measurement.date).order_by(Measurement.date.desc()).first()\n",
    "Latest_Date"
   ],
   "outputs": [
    {
     "data": {
      "text/plain": [
       "('2017-08-23',)"
      ]
     },
     "execution_count": 21,
     "metadata": {},
     "output_type": "execute_result"
    }
   ],
   "execution_count": 21
  },
  {
   "metadata": {
    "ExecuteTime": {
     "end_time": "2024-10-25T00:36:56.526969Z",
     "start_time": "2024-10-25T00:36:56.472611Z"
    }
   },
   "cell_type": "code",
   "source": [
    "# Query all columns\n",
    "result = session.query(Measurement).all()\n",
    "\n",
    "# Print the first few results to see the structure\n",
    "for row in result[:1]:\n",
    "    print(row.__dict__)\n",
    "\n",
    "# Get column names\n",
    "column_names = Measurement.__table__.columns.keys()\n",
    "print(\"Column names:\", column_names)"
   ],
   "outputs": [
    {
     "name": "stdout",
     "output_type": "stream",
     "text": [
      "{'_sa_instance_state': <sqlalchemy.orm.state.InstanceState object at 0x155359960>, 'tobs': 18.3, 'id': 0, 'date': '2010-01-01', 'station': 'USC00519397', 'prcp': 2.0}\n",
      "Column names: ['id', 'station', 'date', 'prcp', 'tobs']\n"
     ]
    }
   ],
   "execution_count": 30
  },
  {
   "cell_type": "code",
   "metadata": {
    "ExecuteTime": {
     "end_time": "2024-10-25T00:41:16.586010Z",
     "start_time": "2024-10-25T00:41:16.571579Z"
    }
   },
   "source": [
    "# Design a query to retrieve the last 12 months of precipitation data and plot the results.\n",
    "\n",
    "# Starting from the most recent data point in the database.\n",
    "Latest_Date = session.query(Measurement.date).order_by(Measurement.date.desc()).first()\n",
    "# Calculate the date one year from the last date in data set.\n",
    "start_date = dt.date(2017, 8, 23) - dt.timedelta(days=365)\n",
    "\n",
    "# Perform a query to retrieve the data and precipitation scores\n",
    "results = session.query(Measurement.date, Measurement.prcp).\\\n",
    "    filter(Measurement.date >= start_date).\\\n",
    "    filter(Measurement.date <= dt.date(2017, 8, 23)).\\\n",
    "    all()\n",
    "\n",
    "# Save the query results as a Pandas DataFrame. Explicitly set the column names\n",
    "df = pd.DataFrame(results, columns=['date', 'precipitation'])\n",
    "\n",
    "# Sort the dataframe by date\n",
    "df = df.sort_values('date')"
   ],
   "outputs": [],
   "execution_count": 39
  },
  {
   "metadata": {
    "ExecuteTime": {
     "end_time": "2024-10-25T00:42:03.913884Z",
     "start_time": "2024-10-25T00:41:58.364337Z"
    }
   },
   "cell_type": "code",
   "source": [
    "\n",
    "# Use Pandas Plotting with Matplotlib to plot the data\n",
    "plt.figure(figsize=(10,6))\n",
    "\n",
    "# Plot the data\n",
    "df.plot(kind='bar', width=1, alpha=0.5)\n",
    "\n",
    "# Customize the plot\n",
    "plt.xlabel('Date')\n",
    "plt.ylabel('Precipitation (inches)')\n",
    "plt.title('Precipitation over the last 12 months')\n",
    "\n",
    "# Rotate and align the tick labels so they look better\n",
    "plt.gcf().autofmt_xdate()\n",
    "\n",
    "plt.tight_layout()\n",
    "plt.show()\n"
   ],
   "outputs": [
    {
     "data": {
      "text/plain": [
       "<Figure size 1000x600 with 0 Axes>"
      ]
     },
     "metadata": {},
     "output_type": "display_data"
    },
    {
     "data": {
      "text/plain": [
       "<Figure size 640x480 with 1 Axes>"
      ],
      "image/png": "[encoded data removed]"
     },
     "metadata": {},
     "output_type": "display_data"
    }
   ],
   "execution_count": 42
  },
  {
   "cell_type": "code",
   "metadata": {
    "ExecuteTime": {
     "end_time": "2024-10-25T00:44:50.501015Z",
     "start_time": "2024-10-25T00:44:50.495219Z"
    }
   },
   "source": [
    "# Use Pandas to calculate the summary statistics for the precipitation data\n",
    "summary_stats = df['precipitation'].describe()\n",
    "summary_stats"
   ],
   "outputs": [
    {
     "data": {
      "text/plain": [
       "count    2021.000000\n",
       "mean        4.505888\n",
       "std        11.713487\n",
       "min         0.000000\n",
       "25%         0.000000\n",
       "50%         0.500000\n",
       "75%         3.300000\n",
       "max       170.200000\n",
       "Name: precipitation, dtype: float64"
      ]
     },
     "execution_count": 48,
     "metadata": {},
     "output_type": "execute_result"
    }
   ],
   "execution_count": 48
  },
  {
   "cell_type": "markdown",
   "metadata": {},
   "source": [
    "# Exploratory Station Analysis"
   ]
  },
  {
   "cell_type": "code",
   "metadata": {
    "ExecuteTime": {
     "end_time": "2024-10-25T00:50:50.468545Z",
     "start_time": "2024-10-25T00:50:50.464401Z"
    }
   },
   "source": [
    "# Design a query to calculate the total number of stations in the dataset\n",
    "total_stations = session.query(func.count(Station.station)).all()\n",
    "total_stations"
   ],
   "outputs": [
    {
     "data": {
      "text/plain": [
       "[(9,)]"
      ]
     },
     "execution_count": 55,
     "metadata": {},
     "output_type": "execute_result"
    }
   ],
   "execution_count": 55
  },
  {
   "cell_type": "code",
   "metadata": {
    "ExecuteTime": {
     "end_time": "2024-10-25T00:53:09.127080Z",
     "start_time": "2024-10-25T00:53:09.120896Z"
    }
   },
   "source": [
    "# Design a query to find the most active stations (i.e. which stations have the most rows?)\n",
    "# List the stations and their counts in descending order.\n",
    "# Design the query\n",
    "station_activity = session.query(Measurement.station, func.count(Measurement.id).label('count')).\\\n",
    "    group_by(Measurement.station).\\\n",
    "    order_by(func.count(Measurement.id).desc()).\\\n",
    "    all()\n",
    "\n",
    "# Print the results\n",
    "print(\"Most active stations:\")\n",
    "for station, count in station_activity:\n",
    "    print(f\"Station: {station}, Count: {count}\")"
   ],
   "outputs": [
    {
     "name": "stdout",
     "output_type": "stream",
     "text": [
      "Most active stations:\n",
      "Station: USC00519281, Count: 2772\n",
      "Station: USC00519397, Count: 2724\n",
      "Station: USC00513117, Count: 2709\n",
      "Station: USC00519523, Count: 2669\n",
      "Station: USC00516128, Count: 2612\n",
      "Station: USC00514830, Count: 2202\n",
      "Station: USC00511918, Count: 1979\n",
      "Station: USC00517948, Count: 1372\n",
      "Station: USC00518838, Count: 511\n"
     ]
    }
   ],
   "execution_count": 57
  },
  {
   "cell_type": "code",
   "metadata": {
    "ExecuteTime": {
     "end_time": "2024-10-25T00:57:45.101516Z",
     "start_time": "2024-10-25T00:57:45.095912Z"
    }
   },
   "source": [
    "# Using the most active station id from the previous query, calculate the lowest, highest, and average temperature.\n",
    "#get the id of the most active station\n",
    "most_active_station_id = station_activity[0][0]\n",
    "\n",
    "# calculate the temperature statistics for the most active station\n",
    "temp_stats = session.query(func.min(Measurement.tobs).label('lowest_temp'),\n",
    "                           func.max(Measurement.tobs).label('highest_temp'),\n",
    "                           func.avg(Measurement.tobs).label('average_temp')).\\\n",
    "    filter(Measurement.station == most_active_station_id).\\\n",
    "    one()\n",
    "\n",
    "# Print the results\n",
    "print(f\"Statistics for the most active station ({most_active_station_id}):\")\n",
    "print(f\"Lowest temperature: {temp_stats.lowest_temp}\")\n",
    "print(f\"Highest temperature: {temp_stats.highest_temp}\")\n",
    "print(f\"Average temperature: {temp_stats.average_temp:.3f}\")\n"
   ],
   "outputs": [
    {
     "name": "stdout",
     "output_type": "stream",
     "text": [
      "Statistics for the most active station (USC00519281):\n",
      "Lowest temperature: 12.2\n",
      "Highest temperature: 29.4\n",
      "Average temperature: 22.036\n"
     ]
    }
   ],
   "execution_count": 61
  },
  {
   "cell_type": "code",
   "metadata": {
    "ExecuteTime": {
     "end_time": "2024-10-25T01:00:25.826290Z",
     "start_time": "2024-10-25T01:00:25.741185Z"
    }
   },
   "source": [
    "# Using the most active station id\n",
    "# Query the last 12 months of temperature observation data for this station and plot the results as a histogram\n",
    "temperature_results = session.query(Measurement.tobs).\\\n",
    "    filter(Measurement.station == most_active_station_id).\\\n",
    "    filter(Measurement.date >= start_date).\\\n",
    "    all()\n",
    "\n",
    "\n",
    "# Unpack the results\n",
    "temps = [temp.tobs for temp in temperature_results]\n",
    "\n",
    "# Create the histogram\n",
    "plt.figure(figsize=(10,6))\n",
    "plt.hist(temps, bins=12, edgecolor='black')\n",
    "plt.title(f\"Temperature Observations for Station {most_active_station_id}\")\n",
    "plt.xlabel(\"Temperature (F)\")\n",
    "plt.ylabel(\"Frequency\")\n",
    "plt.tight_layout()\n",
    "plt.show()"
   ],
   "outputs": [
    {
     "data": {
      "text/plain": [
       "<Figure size 1000x600 with 1 Axes>"
      ],
      "image/png": "[encoded data removed]"
     },
     "metadata": {},
     "output_type": "display_data"
    }
   ],
   "execution_count": 63
  },
  {
   "cell_type": "markdown",
   "metadata": {},
   "source": [
    "# Close Session"
   ]
  },
  {
   "cell_type": "code",
   "metadata": {
    "ExecuteTime": {
     "end_time": "2024-10-25T01:00:29.692039Z",
     "start_time": "2024-10-25T01:00:29.681837Z"
    }
   },
   "source": [
    "# Close Session\n",
    "session.close()\n"
   ],
   "outputs": [],
   "execution_count": 64
  },
  {
   "cell_type": "code",
   "execution_count": null,
   "metadata": {},
   "outputs": [],
   "source": []
  }
 ],
 "metadata": {
  "anaconda-cloud": {},
  "kernel_info": {
   "name": "python3"
  },
  "kernelspec": {
   "display_name": "Python 3 (ipykernel)",
   "language": "python",
   "name": "python3"
  },
  "language_info": {
   "codemirror_mode": {
    "name": "ipython",
    "version": 3
   },
   "file_extension": ".py",
   "mimetype": "text/x-python",
   "name": "python",
   "nbconvert_exporter": "python",
   "pygments_lexer": "ipython3",
   "version": "3.10.9"
  },
  "nteract": {
   "version": "0.12.3"
  },
  "varInspector": {
   "cols": {
    "lenName": 16,
    "lenType": 16,
    "lenVar": 40
   },
   "kernels_config": {
    "python": {
     "delete_cmd_postfix": "",
     "delete_cmd_prefix": "del ",
     "library": "var_list.py",
     "varRefreshCmd": "print(var_dic_list())"
    },
    "r": {
     "delete_cmd_postfix": ") ",
     "delete_cmd_prefix": "rm(",
     "library": "var_list.r",
     "varRefreshCmd": "cat(var_dic_list()) "
    }
   },
   "types_to_exclude": [
    "module",
    "function",
    "builtin_function_or_method",
    "instance",
    "_Feature"
   ],
   "window_display": false
  }
 },
 "nbformat": 4,
 "nbformat_minor": 2
}
